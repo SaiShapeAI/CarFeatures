{
 "cells": [
  {
   "cell_type": "markdown",
   "id": "c362edec",
   "metadata": {},
   "source": [
    "## <center><font color='Purple' face='Cursive' size='6'> Cars Analysis</font></center>"
   ]
  },
  {
   "cell_type": "markdown",
   "id": "4a2341eb",
   "metadata": {},
   "source": [
    "<font size='3'><b>Problem Statement:</b> A New Car Manufacturing company,XYZManuCoLtd wants to understand the market. So, Inoder to unserstand the competition and devise their strategies they have hired you as a Data Analyst to analyse the cars that are currently in market and provide them some useful insights.\n",
    "\n",
    "You have not been given any dataset to work upon by the company and as the details of cars in the market can be obtained from other resources</font>"
   ]
  },
  {
   "cell_type": "markdown",
   "id": "27846677",
   "metadata": {},
   "source": [
    "<font color='Maroon' face='Cursive' size='3'>The Problem can be Broadly divided into two Parts<br>\n",
    "    1. Web Scrapping Car features<br>\n",
    "    2. Analysing the Scrapped features.<br> </font>\n",
    "Lets start with the first part"
   ]
  },
  {
   "cell_type": "markdown",
   "id": "5f0d5886",
   "metadata": {},
   "source": [
    "### Web Scrapping"
   ]
  },
  {
   "cell_type": "markdown",
   "id": "40cdf02c",
   "metadata": {},
   "source": [
    "<font color='Green' face='Cursive'> Here we have not been provided with any dataset and so we need to directly pick the data bfrom some trustworthy website that gives the details from Internet. This can be acheived using Web Scrapping.</font>\n",
    "\n",
    "<font color='Brown' face='Cursive'>Web Scrapping:</font><font color='Blue' face='Cursive'>Web Scraping is a process to extract valuable information from websites and online contents. It is a free method to extract information and receive datasets for further analysis.</font>"
   ]
  },
  {
   "cell_type": "markdown",
   "id": "6fc81701",
   "metadata": {},
   "source": [
    "<font color='Green' face='Cursive'>One of the most popular library for web scrapping is Beautiful Soup. However for our current context we will be mostly using Selenium for extracting the information </font>\n",
    "\n",
    "<font color='Blue' face='Cursive'>\n",
    "But first let us install beautiful soup, selenium and also requests library which would help in sending requests to websites</font>"
   ]
  },
  {
   "cell_type": "code",
   "execution_count": 1,
   "id": "10442092",
   "metadata": {},
   "outputs": [
    {
     "name": "stdout",
     "output_type": "stream",
     "text": [
      "Requirement already satisfied: beautifulsoup4 in d:\\anacoda\\lib\\site-packages (4.9.3)\n",
      "Requirement already satisfied: soupsieve>1.2 in d:\\anacoda\\lib\\site-packages (from beautifulsoup4) (2.2.1)\n"
     ]
    }
   ],
   "source": [
    "# Install Beautifulsoup\n",
    "!pip install beautifulsoup4"
   ]
  },
  {
   "cell_type": "code",
   "execution_count": 2,
   "id": "c74ce439",
   "metadata": {},
   "outputs": [
    {
     "name": "stdout",
     "output_type": "stream",
     "text": [
      "Requirement already satisfied: requests in d:\\anacoda\\lib\\site-packages (2.25.1)\n",
      "Requirement already satisfied: chardet<5,>=3.0.2 in d:\\anacoda\\lib\\site-packages (from requests) (4.0.0)\n",
      "Requirement already satisfied: urllib3<1.27,>=1.21.1 in d:\\anacoda\\lib\\site-packages (from requests) (1.26.4)\n",
      "Requirement already satisfied: idna<3,>=2.5 in d:\\anacoda\\lib\\site-packages (from requests) (2.10)\n",
      "Requirement already satisfied: certifi>=2017.4.17 in d:\\anacoda\\lib\\site-packages (from requests) (2020.12.5)\n"
     ]
    }
   ],
   "source": [
    "# Install Requests\n",
    "!pip install requests"
   ]
  },
  {
   "cell_type": "markdown",
   "id": "9eafc0e6",
   "metadata": {},
   "source": [
    "<font color='Orange' face='Cursive'>I already have beautifulsoup and requests installed on my system. The above commands are for installation. If already installed, above steps can be ignored</font>"
   ]
  },
  {
   "cell_type": "code",
   "execution_count": 13,
   "id": "b45d722d",
   "metadata": {},
   "outputs": [
    {
     "name": "stdout",
     "output_type": "stream",
     "text": [
      "Collecting selenium\n",
      "  Downloading selenium-3.141.0-py2.py3-none-any.whl (904 kB)\n",
      "Requirement already satisfied: urllib3 in d:\\anacoda\\lib\\site-packages (from selenium) (1.26.4)\n",
      "Installing collected packages: selenium\n",
      "Successfully installed selenium-3.141.0\n"
     ]
    }
   ],
   "source": [
    "#Install Selinium\n",
    "!pip install selenium"
   ]
  },
  {
   "cell_type": "markdown",
   "id": "8cafe112",
   "metadata": {},
   "source": [
    "<font color='Green' face='Cursive'> Here in we will be scrapping car features from [BuyCarsOnlinePortal](https://www.buycarsonline.in/mAllBrand.aspx)."
   ]
  },
  {
   "cell_type": "code",
   "execution_count": 31,
   "id": "55f85485",
   "metadata": {},
   "outputs": [],
   "source": [
    "# import required libraries\n",
    "from bs4 import BeautifulSoup as bs\n",
    "import requests\n",
    "from selenium import webdriver\n",
    "from selenium.webdriver.support.ui import Select\n",
    "from selenium.webdriver.common.action_chains import ActionChains\n",
    "from selenium.common.exceptions import NoSuchElementException\n",
    "import time"
   ]
  },
  {
   "cell_type": "markdown",
   "id": "e37337ab",
   "metadata": {},
   "source": [
    "<font color='Blue' face='Cursive'> Let us create a function to fetch the data. Here we will be using several functions provided by selenium by providing a web driver. A brief introduction and links to information on same are given a comments and each and every statement.</font>\n",
    "\n",
    "\n",
    "Here I used Chrome as the browser providing suitable driver. You can use anyn of the browsers by downloading and giving the path of that particular driver."
   ]
  },
  {
   "cell_type": "code",
   "execution_count": 46,
   "id": "da74c77c",
   "metadata": {},
   "outputs": [],
   "source": [
    "def prepareData():\n",
    "    url = \"https://www.buycarsonline.in/mAllBrand.aspx\"\n",
    "    ### Get the chrome driver required inorder to execute code on chrome browser\n",
    "    browser = webdriver.Chrome(executable_path=r\"D:\\Internships\\Shape.AI\\Car Analysis\\chromedriver_win32\\chromedriver.exe\")\n",
    "    ### Go to the url from where data needs to be scrapped\n",
    "    \n",
    "    browser.get(url)             ## This launches a new chrome browser which points to the URL mentioned\n",
    "    \n",
    "    ### Create a list which holds several lists will later be used to create a Dataframe.\n",
    "    rows=[['Brand','CarName','PriceRange','Features']] # A first element that would represent column names has already been added\n",
    "    \n",
    "    ### Actual scraping of data starts here\n",
    "    for i in range(1,38):\n",
    "        path='//*[@id=\"headingOne\"]/a['+str(i)+']/div/img'  ## Create X_Path for a single brand\n",
    "        \n",
    "        ## Click operation is one of operations of selenium by which we can click on element that browser has fetched.\n",
    "        browser.find_element_by_xpath(path).click() \n",
    "        \n",
    "        ## We have asked the system to be in sleep mode to give enough time for webpage to load properly\n",
    "        time.sleep(4)\n",
    "        for j in range(1,8):\n",
    "            for k in range(1,4):\n",
    "                try:\n",
    "                    x_path_brand = '//*[@id=\"profile\"]/div[1]/h1/strong'    ## X_path creation to fetch Brand name\n",
    "                    x_path_carname = '//*[@id=\"profile\"]/div['+str(j)+']/div['+str(k)+']/div/div[2]/div/div/h1' ## X_path for carname\n",
    "                    x_path_features = '//*[@id=\"profile\"]/div['+str(j)+']/div['+str(k)+']/div/div[2]/div/div/p[2]' ## X_path for features\n",
    "                    x_path_price = '//*[@id=\"profile\"]/div['+str(j)+']/div['+str(k)+']/div/div[2]/div/div/p[1]' ## X_path for price\n",
    "                    \n",
    "                    ## Add all the above elements text component to the rows component -- Start\n",
    "                    l1 = []\n",
    "                    l1.append((browser.find_element_by_xpath(x_path_brand)).text)\n",
    "                    l1.append((browser.find_element_by_xpath(x_path_carname)).text)\n",
    "                    l1.append((browser.find_element_by_xpath(x_path_price)).text)\n",
    "                    l1.append((browser.find_element_by_xpath(x_path_features)).text)\n",
    "                    ## Add all the above elements text component to the rows component -- Start\n",
    "                    \n",
    "                except NoSuchElementException : # This exception is thrown when selenium cannot find specified X_Path\n",
    "                    break;\n",
    "                except Exception:\n",
    "                    break;\n",
    "                rows.append(l1)\n",
    "        browser.back() ## Instructing selenium to move browser to previous page\n",
    "    return rows\n",
    "      "
   ]
  },
  {
   "cell_type": "markdown",
   "id": "f1b5d9e4",
   "metadata": {},
   "source": [
    "<font size='2.5'>Here are a few questions you might have encountered while going through above function.If you didn't try to answer the below questions</font>\n",
    "\n",
    "\n",
    "<font color = 'Red' face='Comic Sans MS'>\n",
    "    1. How can we get the xpath?<br>\n",
    "    2. Why are we using try/except?<br>\n",
    "    3. How did we actually know order of execution of steps?\n",
    "</font>"
   ]
  },
  {
   "cell_type": "markdown",
   "id": "0ff8ad06",
   "metadata": {},
   "source": [
    "<font color = 'Green' face='Comic Sans MS'>1 . click [here](https://wpinitiate.com/index.php/2021/07/28/how-to-get-the-xpath-expression-for-any-html-element-from-a-web-page-using-chrome-browser/#:~:text=%20To%20get%20the%20XPath%20of%20any%20HTML,console%204%20Go%20to%20Copy%20XPath%20More%20) for solution.<br><br>\n",
    "    2. We are trying to get the xpath by substituting the some numeric values in the x_path which would give different features. However, it should be understood that all the brand might not have as many cars as expected and in such a case the xpath will not match and we will get an exception. So we need to handle these exceptions. For that very reason, we use try catch. <br><br>\n",
    "    Excpetion Handling very widely used in industry . So its good to have basic understanding of the it .Read about Exception Handling [here](https://www.geeksforgeeks.org/python-exception-handling/)\n",
    "    <br><br>\n",
    "    3. Try to go to the url and try to fetch car details manually and list out the steps. FInd equivalent steps in python for scrapping the data\n",
    "    "
   ]
  },
  {
   "cell_type": "code",
   "execution_count": 47,
   "id": "0cadec74",
   "metadata": {},
   "outputs": [],
   "source": [
    "# Run Finction to scrap the data\n",
    "data = prepareData()"
   ]
  },
  {
   "cell_type": "markdown",
   "id": "8daf6702",
   "metadata": {},
   "source": [
    "<font color = 'Brown' face='Comic Sans MS'> Now we have the data in the form of list of lists. Let's continue to the next step which is Analysis</font>"
   ]
  },
  {
   "cell_type": "markdown",
   "id": "22955fc3",
   "metadata": {},
   "source": [
    "### Data Analysis"
   ]
  },
  {
   "cell_type": "markdown",
   "id": "0d2a5879",
   "metadata": {},
   "source": [
    "<font color = 'Blue' face='Comic Sans MS'> In Data Analysis, we will clean and prepare the data and do some analysis on the data that was obtained</font>"
   ]
  },
  {
   "cell_type": "code",
   "execution_count": 156,
   "id": "7f3ed83c",
   "metadata": {},
   "outputs": [
    {
     "ename": "ModuleNotFoundError",
     "evalue": "No module named 'Math'",
     "output_type": "error",
     "traceback": [
      "\u001b[1;31m---------------------------------------------------------------------------\u001b[0m",
      "\u001b[1;31mModuleNotFoundError\u001b[0m                       Traceback (most recent call last)",
      "\u001b[1;32m<ipython-input-156-eed11d290b29>\u001b[0m in \u001b[0;36m<module>\u001b[1;34m\u001b[0m\n\u001b[0;32m      6\u001b[0m \u001b[1;32mimport\u001b[0m \u001b[0mseaborn\u001b[0m \u001b[1;32mas\u001b[0m \u001b[0msns\u001b[0m\u001b[1;33m\u001b[0m\u001b[1;33m\u001b[0m\u001b[0m\n\u001b[0;32m      7\u001b[0m \u001b[1;33m\u001b[0m\u001b[0m\n\u001b[1;32m----> 8\u001b[1;33m \u001b[1;32mfrom\u001b[0m \u001b[0mMath\u001b[0m \u001b[1;32mimport\u001b[0m \u001b[0mround\u001b[0m\u001b[1;33m\u001b[0m\u001b[1;33m\u001b[0m\u001b[0m\n\u001b[0m",
      "\u001b[1;31mModuleNotFoundError\u001b[0m: No module named 'Math'"
     ]
    }
   ],
   "source": [
    "# Import Libraries for Analysis\n",
    "import numpy as np\n",
    "import pandas as pd\n",
    "\n",
    "import matplotlib.pyplot as plt\n",
    "import seaborn as sns\n",
    "\n",
    "from Math import round"
   ]
  },
  {
   "cell_type": "markdown",
   "id": "8d6a13fb",
   "metadata": {},
   "source": [
    "<font color = 'Brown' face='Comic Sans MS'> Let us convert List into dataframe using [pandas Dataframe](https://pandas.pydata.org/pandas-docs/stable/reference/api/pandas.DataFrame.html) function</font>"
   ]
  },
  {
   "cell_type": "code",
   "execution_count": 128,
   "id": "6c3bd0ac",
   "metadata": {},
   "outputs": [
    {
     "data": {
      "text/html": [
       "<div>\n",
       "<style scoped>\n",
       "    .dataframe tbody tr th:only-of-type {\n",
       "        vertical-align: middle;\n",
       "    }\n",
       "\n",
       "    .dataframe tbody tr th {\n",
       "        vertical-align: top;\n",
       "    }\n",
       "\n",
       "    .dataframe thead th {\n",
       "        text-align: right;\n",
       "    }\n",
       "</style>\n",
       "<table border=\"1\" class=\"dataframe\">\n",
       "  <thead>\n",
       "    <tr style=\"text-align: right;\">\n",
       "      <th></th>\n",
       "      <th>Brand</th>\n",
       "      <th>CarName</th>\n",
       "      <th>PriceRange</th>\n",
       "      <th>Features</th>\n",
       "    </tr>\n",
       "  </thead>\n",
       "  <tbody>\n",
       "    <tr>\n",
       "      <th>0</th>\n",
       "      <td>Maruti Suzuki</td>\n",
       "      <td>DZIRE</td>\n",
       "      <td>Rs.5.83 - 9.58Lakh*</td>\n",
       "      <td>Automatic/Manual| Diesel/Petrol | 22KMPL</td>\n",
       "    </tr>\n",
       "    <tr>\n",
       "      <th>1</th>\n",
       "      <td>Maruti Suzuki</td>\n",
       "      <td>Baleno</td>\n",
       "      <td>Rs.5.46 - 8.90 Lakh*</td>\n",
       "      <td>Automatic/Manual|Diesel/Petrol | 20 to 27 kmpl</td>\n",
       "    </tr>\n",
       "    <tr>\n",
       "      <th>2</th>\n",
       "      <td>Maruti Suzuki</td>\n",
       "      <td>Vitara Brezza</td>\n",
       "      <td>Rs.7.78 - 9 Lakh*</td>\n",
       "      <td>Automatic/Manual| Diesel/Petrol | 24KMPL</td>\n",
       "    </tr>\n",
       "    <tr>\n",
       "      <th>3</th>\n",
       "      <td>Maruti Suzuki</td>\n",
       "      <td>Ertiga</td>\n",
       "      <td>Rs.7.45 - 11.41 Lakh*</td>\n",
       "      <td>Automatic/Manual| Diesel/Petrol | 16.8-19.8kmpl</td>\n",
       "    </tr>\n",
       "    <tr>\n",
       "      <th>4</th>\n",
       "      <td>Maruti Suzuki</td>\n",
       "      <td>Celerio</td>\n",
       "      <td>Rs.5.23 - 5.55 Lakh*</td>\n",
       "      <td>Automatic/Manual| Diesel/Petrol | 23.1KMPL</td>\n",
       "    </tr>\n",
       "  </tbody>\n",
       "</table>\n",
       "</div>"
      ],
      "text/plain": [
       "           Brand        CarName             PriceRange  \\\n",
       "0  Maruti Suzuki          DZIRE    Rs.5.83 - 9.58Lakh*   \n",
       "1  Maruti Suzuki         Baleno   Rs.5.46 - 8.90 Lakh*   \n",
       "2  Maruti Suzuki  Vitara Brezza      Rs.7.78 - 9 Lakh*   \n",
       "3  Maruti Suzuki         Ertiga  Rs.7.45 - 11.41 Lakh*   \n",
       "4  Maruti Suzuki        Celerio   Rs.5.23 - 5.55 Lakh*   \n",
       "\n",
       "                                          Features  \n",
       "0         Automatic/Manual| Diesel/Petrol | 22KMPL  \n",
       "1   Automatic/Manual|Diesel/Petrol | 20 to 27 kmpl  \n",
       "2         Automatic/Manual| Diesel/Petrol | 24KMPL  \n",
       "3  Automatic/Manual| Diesel/Petrol | 16.8-19.8kmpl  \n",
       "4       Automatic/Manual| Diesel/Petrol | 23.1KMPL  "
      ]
     },
     "execution_count": 128,
     "metadata": {},
     "output_type": "execute_result"
    }
   ],
   "source": [
    "# Create a dataframe from rows fetched\n",
    "car_df = pd.DataFrame(data[1:],columns=data[0])\n",
    "\n",
    "#Print top 5 rows\n",
    "car_df.head()"
   ]
  },
  {
   "cell_type": "code",
   "execution_count": 129,
   "id": "fdf4b60d",
   "metadata": {},
   "outputs": [
    {
     "name": "stdout",
     "output_type": "stream",
     "text": [
      "<class 'pandas.core.frame.DataFrame'>\n",
      "RangeIndex: 196 entries, 0 to 195\n",
      "Data columns (total 4 columns):\n",
      " #   Column      Non-Null Count  Dtype \n",
      "---  ------      --------------  ----- \n",
      " 0   Brand       196 non-null    object\n",
      " 1   CarName     196 non-null    object\n",
      " 2   PriceRange  196 non-null    object\n",
      " 3   Features    196 non-null    object\n",
      "dtypes: object(4)\n",
      "memory usage: 6.2+ KB\n"
     ]
    }
   ],
   "source": [
    "#Check Info\n",
    "car_df.info()"
   ]
  },
  {
   "cell_type": "markdown",
   "id": "a6a5e4b5",
   "metadata": {},
   "source": [
    "<font color = 'Orange' face='Comic Sans MS'> Let us make our analysis easier by taking low end price of cars using price range.</font>"
   ]
  },
  {
   "cell_type": "code",
   "execution_count": 130,
   "id": "a95f8304",
   "metadata": {},
   "outputs": [
    {
     "data": {
      "text/html": [
       "<div>\n",
       "<style scoped>\n",
       "    .dataframe tbody tr th:only-of-type {\n",
       "        vertical-align: middle;\n",
       "    }\n",
       "\n",
       "    .dataframe tbody tr th {\n",
       "        vertical-align: top;\n",
       "    }\n",
       "\n",
       "    .dataframe thead th {\n",
       "        text-align: right;\n",
       "    }\n",
       "</style>\n",
       "<table border=\"1\" class=\"dataframe\">\n",
       "  <thead>\n",
       "    <tr style=\"text-align: right;\">\n",
       "      <th></th>\n",
       "      <th>Brand</th>\n",
       "      <th>CarName</th>\n",
       "      <th>PriceRange</th>\n",
       "      <th>Features</th>\n",
       "      <th>Price</th>\n",
       "    </tr>\n",
       "  </thead>\n",
       "  <tbody>\n",
       "    <tr>\n",
       "      <th>0</th>\n",
       "      <td>Maruti Suzuki</td>\n",
       "      <td>DZIRE</td>\n",
       "      <td>Rs.5.83 - 9.58Lakh*</td>\n",
       "      <td>Automatic/Manual| Diesel/Petrol | 22KMPL</td>\n",
       "      <td>5.83</td>\n",
       "    </tr>\n",
       "    <tr>\n",
       "      <th>1</th>\n",
       "      <td>Maruti Suzuki</td>\n",
       "      <td>Baleno</td>\n",
       "      <td>Rs.5.46 - 8.90 Lakh*</td>\n",
       "      <td>Automatic/Manual|Diesel/Petrol | 20 to 27 kmpl</td>\n",
       "      <td>5.46</td>\n",
       "    </tr>\n",
       "    <tr>\n",
       "      <th>2</th>\n",
       "      <td>Maruti Suzuki</td>\n",
       "      <td>Vitara Brezza</td>\n",
       "      <td>Rs.7.78 - 9 Lakh*</td>\n",
       "      <td>Automatic/Manual| Diesel/Petrol | 24KMPL</td>\n",
       "      <td>7.78</td>\n",
       "    </tr>\n",
       "    <tr>\n",
       "      <th>3</th>\n",
       "      <td>Maruti Suzuki</td>\n",
       "      <td>Ertiga</td>\n",
       "      <td>Rs.7.45 - 11.41 Lakh*</td>\n",
       "      <td>Automatic/Manual| Diesel/Petrol | 16.8-19.8kmpl</td>\n",
       "      <td>7.45</td>\n",
       "    </tr>\n",
       "    <tr>\n",
       "      <th>4</th>\n",
       "      <td>Maruti Suzuki</td>\n",
       "      <td>Celerio</td>\n",
       "      <td>Rs.5.23 - 5.55 Lakh*</td>\n",
       "      <td>Automatic/Manual| Diesel/Petrol | 23.1KMPL</td>\n",
       "      <td>5.23</td>\n",
       "    </tr>\n",
       "    <tr>\n",
       "      <th>...</th>\n",
       "      <td>...</td>\n",
       "      <td>...</td>\n",
       "      <td>...</td>\n",
       "      <td>...</td>\n",
       "      <td>...</td>\n",
       "    </tr>\n",
       "    <tr>\n",
       "      <th>191</th>\n",
       "      <td>Maserati</td>\n",
       "      <td>Maserati Gran turismo</td>\n",
       "      <td>Rs. 2.25 Cr*</td>\n",
       "      <td>Automatic|Petrol |10 KMPL</td>\n",
       "      <td>2.25 Cr*</td>\n",
       "    </tr>\n",
       "    <tr>\n",
       "      <th>192</th>\n",
       "      <td>Maserati</td>\n",
       "      <td>Maserati Grancabrio</td>\n",
       "      <td>Rs. 2.46 Cr*</td>\n",
       "      <td>Automatic|Petrol |10.2 KMPL</td>\n",
       "      <td>2.46 Cr*</td>\n",
       "    </tr>\n",
       "    <tr>\n",
       "      <th>193</th>\n",
       "      <td>Maserati</td>\n",
       "      <td>Maserati Levante</td>\n",
       "      <td>Rs. 1.45 Cr*</td>\n",
       "      <td>Automatic|Petrol |14 KMPL</td>\n",
       "      <td>1.45 Cr*</td>\n",
       "    </tr>\n",
       "    <tr>\n",
       "      <th>194</th>\n",
       "      <td>Maserati</td>\n",
       "      <td>Maserati Quattroporte</td>\n",
       "      <td>Rs. 2.46 Cr*</td>\n",
       "      <td>Automatic|Petrol |10.2 KMPL</td>\n",
       "      <td>2.46 Cr*</td>\n",
       "    </tr>\n",
       "    <tr>\n",
       "      <th>195</th>\n",
       "      <td>FORCE MOTORS</td>\n",
       "      <td>Force Motors Gurkha</td>\n",
       "      <td>Rs. 10.26 lakhs*</td>\n",
       "      <td>Manual|Diesel | 13 KMPL</td>\n",
       "      <td>10.26 lakhs*</td>\n",
       "    </tr>\n",
       "  </tbody>\n",
       "</table>\n",
       "<p>196 rows × 5 columns</p>\n",
       "</div>"
      ],
      "text/plain": [
       "             Brand                CarName             PriceRange  \\\n",
       "0    Maruti Suzuki                  DZIRE    Rs.5.83 - 9.58Lakh*   \n",
       "1    Maruti Suzuki                 Baleno   Rs.5.46 - 8.90 Lakh*   \n",
       "2    Maruti Suzuki          Vitara Brezza      Rs.7.78 - 9 Lakh*   \n",
       "3    Maruti Suzuki                 Ertiga  Rs.7.45 - 11.41 Lakh*   \n",
       "4    Maruti Suzuki                Celerio   Rs.5.23 - 5.55 Lakh*   \n",
       "..             ...                    ...                    ...   \n",
       "191       Maserati  Maserati Gran turismo           Rs. 2.25 Cr*   \n",
       "192       Maserati    Maserati Grancabrio           Rs. 2.46 Cr*   \n",
       "193       Maserati       Maserati Levante           Rs. 1.45 Cr*   \n",
       "194       Maserati  Maserati Quattroporte           Rs. 2.46 Cr*   \n",
       "195   FORCE MOTORS    Force Motors Gurkha       Rs. 10.26 lakhs*   \n",
       "\n",
       "                                            Features          Price  \n",
       "0           Automatic/Manual| Diesel/Petrol | 22KMPL          5.83   \n",
       "1     Automatic/Manual|Diesel/Petrol | 20 to 27 kmpl          5.46   \n",
       "2           Automatic/Manual| Diesel/Petrol | 24KMPL          7.78   \n",
       "3    Automatic/Manual| Diesel/Petrol | 16.8-19.8kmpl          7.45   \n",
       "4         Automatic/Manual| Diesel/Petrol | 23.1KMPL          5.23   \n",
       "..                                               ...            ...  \n",
       "191                        Automatic|Petrol |10 KMPL       2.25 Cr*  \n",
       "192                      Automatic|Petrol |10.2 KMPL       2.46 Cr*  \n",
       "193                        Automatic|Petrol |14 KMPL       1.45 Cr*  \n",
       "194                      Automatic|Petrol |10.2 KMPL       2.46 Cr*  \n",
       "195                          Manual|Diesel | 13 KMPL   10.26 lakhs*  \n",
       "\n",
       "[196 rows x 5 columns]"
      ]
     },
     "execution_count": 130,
     "metadata": {},
     "output_type": "execute_result"
    }
   ],
   "source": [
    "car_df['PriceRange'] = car_df['PriceRange'].apply(lambda x : x.replace(\"to\",\"-\"))\n",
    "# calculate lowest price of car\n",
    "car_df['Price'] = car_df['PriceRange'].apply(lambda x: (x.split(\"-\")[0]).replace(\"Rs.\",\"\"))\n",
    "\n",
    "car_df['Price'] = car_df['Price'].apply(lambda x: x.replace(\"Rs\",\"\"))\n",
    "car_df"
   ]
  },
  {
   "cell_type": "code",
   "execution_count": 131,
   "id": "70da9d0a",
   "metadata": {},
   "outputs": [],
   "source": [
    "# Function to have all Price in Lakhs\n",
    "def converttoLakh(modPrice,price):\n",
    "    if \"Cr\" in price:\n",
    "        return modPrice*100\n",
    "    return modPrice"
   ]
  },
  {
   "cell_type": "code",
   "execution_count": 134,
   "id": "53660a5a",
   "metadata": {},
   "outputs": [],
   "source": [
    "# Replace all \"Cr,lakhs\" to represent all in lakhs\n",
    "car_df['PriceLakhs'] = car_df['Price'].str.extract('(\\d+\\.?\\d*)').astype(float)\n",
    "\n",
    "car_df['PriceLakhs'] = car_df[['PriceLakhs','Price']].apply(lambda x : converttoLakh(*x),axis=1)"
   ]
  },
  {
   "cell_type": "markdown",
   "id": "db9e82ca",
   "metadata": {},
   "source": [
    "<font color = 'Brown' face='Comic Sans MS'> Divide Features into Transmission , FeulType, Mileage using [split](https://www.w3schools.com/python/ref_string_split.asp) function</font>"
   ]
  },
  {
   "cell_type": "code",
   "execution_count": 147,
   "id": "4478b0b5",
   "metadata": {},
   "outputs": [],
   "source": [
    "car_df['Transmission'] = car_df['Features'].apply(lambda x: ((x.split(\"|\"))[0]).lstrip().rstrip())\n",
    "car_df['FeulType'] = car_df['Features'].apply(lambda x:((x.split(\"|\"))[1]).lstrip().rstrip() if len(x.split(\"|\"))>1 else np.NaN)\n",
    "car_df['Mileage'] = car_df['Features'].apply(lambda x: ((x.split(\"|\"))[2]).lstrip().rstrip() if len(x.split(\"|\"))>2 else np.NaN)"
   ]
  },
  {
   "cell_type": "code",
   "execution_count": 178,
   "id": "22f6a0db",
   "metadata": {},
   "outputs": [
    {
     "data": {
      "text/html": [
       "<div>\n",
       "<style scoped>\n",
       "    .dataframe tbody tr th:only-of-type {\n",
       "        vertical-align: middle;\n",
       "    }\n",
       "\n",
       "    .dataframe tbody tr th {\n",
       "        vertical-align: top;\n",
       "    }\n",
       "\n",
       "    .dataframe thead th {\n",
       "        text-align: right;\n",
       "    }\n",
       "</style>\n",
       "<table border=\"1\" class=\"dataframe\">\n",
       "  <thead>\n",
       "    <tr style=\"text-align: right;\">\n",
       "      <th></th>\n",
       "      <th>Brand</th>\n",
       "      <th>CarName</th>\n",
       "      <th>PriceRange</th>\n",
       "      <th>Features</th>\n",
       "      <th>Price</th>\n",
       "      <th>PriceLakhs</th>\n",
       "      <th>Transmission</th>\n",
       "      <th>FeulType</th>\n",
       "      <th>Mileage</th>\n",
       "      <th>MileageBin</th>\n",
       "    </tr>\n",
       "  </thead>\n",
       "  <tbody>\n",
       "    <tr>\n",
       "      <th>0</th>\n",
       "      <td>Maruti Suzuki</td>\n",
       "      <td>DZIRE</td>\n",
       "      <td>Rs.5.83 - 9.58Lakh*</td>\n",
       "      <td>Automatic/Manual| Diesel/Petrol | 22KMPL</td>\n",
       "      <td>5.83</td>\n",
       "      <td>5.83</td>\n",
       "      <td>Automatic/Manual</td>\n",
       "      <td>Diesel/Petrol</td>\n",
       "      <td>22KMPL</td>\n",
       "      <td>22</td>\n",
       "    </tr>\n",
       "    <tr>\n",
       "      <th>1</th>\n",
       "      <td>Maruti Suzuki</td>\n",
       "      <td>Baleno</td>\n",
       "      <td>Rs.5.46 - 8.90 Lakh*</td>\n",
       "      <td>Automatic/Manual|Diesel/Petrol | 20 to 27 kmpl</td>\n",
       "      <td>5.46</td>\n",
       "      <td>5.46</td>\n",
       "      <td>Automatic/Manual</td>\n",
       "      <td>Diesel/Petrol</td>\n",
       "      <td>20 to 27 kmpl</td>\n",
       "      <td>20</td>\n",
       "    </tr>\n",
       "    <tr>\n",
       "      <th>2</th>\n",
       "      <td>Maruti Suzuki</td>\n",
       "      <td>Vitara Brezza</td>\n",
       "      <td>Rs.7.78 - 9 Lakh*</td>\n",
       "      <td>Automatic/Manual| Diesel/Petrol | 24KMPL</td>\n",
       "      <td>7.78</td>\n",
       "      <td>7.78</td>\n",
       "      <td>Automatic/Manual</td>\n",
       "      <td>Diesel/Petrol</td>\n",
       "      <td>24KMPL</td>\n",
       "      <td>24</td>\n",
       "    </tr>\n",
       "    <tr>\n",
       "      <th>3</th>\n",
       "      <td>Maruti Suzuki</td>\n",
       "      <td>Ertiga</td>\n",
       "      <td>Rs.7.45 - 11.41 Lakh*</td>\n",
       "      <td>Automatic/Manual| Diesel/Petrol | 16.8-19.8kmpl</td>\n",
       "      <td>7.45</td>\n",
       "      <td>7.45</td>\n",
       "      <td>Automatic/Manual</td>\n",
       "      <td>Diesel/Petrol</td>\n",
       "      <td>16.8-19.8kmpl</td>\n",
       "      <td>17</td>\n",
       "    </tr>\n",
       "    <tr>\n",
       "      <th>4</th>\n",
       "      <td>Maruti Suzuki</td>\n",
       "      <td>Celerio</td>\n",
       "      <td>Rs.5.23 - 5.55 Lakh*</td>\n",
       "      <td>Automatic/Manual| Diesel/Petrol | 23.1KMPL</td>\n",
       "      <td>5.23</td>\n",
       "      <td>5.23</td>\n",
       "      <td>Automatic/Manual</td>\n",
       "      <td>Diesel/Petrol</td>\n",
       "      <td>23.1KMPL</td>\n",
       "      <td>23</td>\n",
       "    </tr>\n",
       "    <tr>\n",
       "      <th>...</th>\n",
       "      <td>...</td>\n",
       "      <td>...</td>\n",
       "      <td>...</td>\n",
       "      <td>...</td>\n",
       "      <td>...</td>\n",
       "      <td>...</td>\n",
       "      <td>...</td>\n",
       "      <td>...</td>\n",
       "      <td>...</td>\n",
       "      <td>...</td>\n",
       "    </tr>\n",
       "    <tr>\n",
       "      <th>191</th>\n",
       "      <td>Maserati</td>\n",
       "      <td>Maserati Gran turismo</td>\n",
       "      <td>Rs. 2.25 Cr*</td>\n",
       "      <td>Automatic|Petrol |10 KMPL</td>\n",
       "      <td>2.25 Cr*</td>\n",
       "      <td>225.00</td>\n",
       "      <td>Automatic</td>\n",
       "      <td>Petrol</td>\n",
       "      <td>10 KMPL</td>\n",
       "      <td>10</td>\n",
       "    </tr>\n",
       "    <tr>\n",
       "      <th>192</th>\n",
       "      <td>Maserati</td>\n",
       "      <td>Maserati Grancabrio</td>\n",
       "      <td>Rs. 2.46 Cr*</td>\n",
       "      <td>Automatic|Petrol |10.2 KMPL</td>\n",
       "      <td>2.46 Cr*</td>\n",
       "      <td>246.00</td>\n",
       "      <td>Automatic</td>\n",
       "      <td>Petrol</td>\n",
       "      <td>10.2 KMPL</td>\n",
       "      <td>10</td>\n",
       "    </tr>\n",
       "    <tr>\n",
       "      <th>193</th>\n",
       "      <td>Maserati</td>\n",
       "      <td>Maserati Levante</td>\n",
       "      <td>Rs. 1.45 Cr*</td>\n",
       "      <td>Automatic|Petrol |14 KMPL</td>\n",
       "      <td>1.45 Cr*</td>\n",
       "      <td>145.00</td>\n",
       "      <td>Automatic</td>\n",
       "      <td>Petrol</td>\n",
       "      <td>14 KMPL</td>\n",
       "      <td>14</td>\n",
       "    </tr>\n",
       "    <tr>\n",
       "      <th>194</th>\n",
       "      <td>Maserati</td>\n",
       "      <td>Maserati Quattroporte</td>\n",
       "      <td>Rs. 2.46 Cr*</td>\n",
       "      <td>Automatic|Petrol |10.2 KMPL</td>\n",
       "      <td>2.46 Cr*</td>\n",
       "      <td>246.00</td>\n",
       "      <td>Automatic</td>\n",
       "      <td>Petrol</td>\n",
       "      <td>10.2 KMPL</td>\n",
       "      <td>10</td>\n",
       "    </tr>\n",
       "    <tr>\n",
       "      <th>195</th>\n",
       "      <td>FORCE MOTORS</td>\n",
       "      <td>Force Motors Gurkha</td>\n",
       "      <td>Rs. 10.26 lakhs*</td>\n",
       "      <td>Manual|Diesel | 13 KMPL</td>\n",
       "      <td>10.26 lakhs*</td>\n",
       "      <td>10.26</td>\n",
       "      <td>Manual</td>\n",
       "      <td>Diesel</td>\n",
       "      <td>13 KMPL</td>\n",
       "      <td>13</td>\n",
       "    </tr>\n",
       "  </tbody>\n",
       "</table>\n",
       "<p>172 rows × 10 columns</p>\n",
       "</div>"
      ],
      "text/plain": [
       "             Brand                CarName             PriceRange  \\\n",
       "0    Maruti Suzuki                  DZIRE    Rs.5.83 - 9.58Lakh*   \n",
       "1    Maruti Suzuki                 Baleno   Rs.5.46 - 8.90 Lakh*   \n",
       "2    Maruti Suzuki          Vitara Brezza      Rs.7.78 - 9 Lakh*   \n",
       "3    Maruti Suzuki                 Ertiga  Rs.7.45 - 11.41 Lakh*   \n",
       "4    Maruti Suzuki                Celerio   Rs.5.23 - 5.55 Lakh*   \n",
       "..             ...                    ...                    ...   \n",
       "191       Maserati  Maserati Gran turismo           Rs. 2.25 Cr*   \n",
       "192       Maserati    Maserati Grancabrio           Rs. 2.46 Cr*   \n",
       "193       Maserati       Maserati Levante           Rs. 1.45 Cr*   \n",
       "194       Maserati  Maserati Quattroporte           Rs. 2.46 Cr*   \n",
       "195   FORCE MOTORS    Force Motors Gurkha       Rs. 10.26 lakhs*   \n",
       "\n",
       "                                            Features          Price  \\\n",
       "0           Automatic/Manual| Diesel/Petrol | 22KMPL          5.83    \n",
       "1     Automatic/Manual|Diesel/Petrol | 20 to 27 kmpl          5.46    \n",
       "2           Automatic/Manual| Diesel/Petrol | 24KMPL          7.78    \n",
       "3    Automatic/Manual| Diesel/Petrol | 16.8-19.8kmpl          7.45    \n",
       "4         Automatic/Manual| Diesel/Petrol | 23.1KMPL          5.23    \n",
       "..                                               ...            ...   \n",
       "191                        Automatic|Petrol |10 KMPL       2.25 Cr*   \n",
       "192                      Automatic|Petrol |10.2 KMPL       2.46 Cr*   \n",
       "193                        Automatic|Petrol |14 KMPL       1.45 Cr*   \n",
       "194                      Automatic|Petrol |10.2 KMPL       2.46 Cr*   \n",
       "195                          Manual|Diesel | 13 KMPL   10.26 lakhs*   \n",
       "\n",
       "     PriceLakhs      Transmission       FeulType        Mileage  MileageBin  \n",
       "0          5.83  Automatic/Manual  Diesel/Petrol         22KMPL          22  \n",
       "1          5.46  Automatic/Manual  Diesel/Petrol  20 to 27 kmpl          20  \n",
       "2          7.78  Automatic/Manual  Diesel/Petrol         24KMPL          24  \n",
       "3          7.45  Automatic/Manual  Diesel/Petrol  16.8-19.8kmpl          17  \n",
       "4          5.23  Automatic/Manual  Diesel/Petrol       23.1KMPL          23  \n",
       "..          ...               ...            ...            ...         ...  \n",
       "191      225.00         Automatic         Petrol        10 KMPL          10  \n",
       "192      246.00         Automatic         Petrol      10.2 KMPL          10  \n",
       "193      145.00         Automatic         Petrol        14 KMPL          14  \n",
       "194      246.00         Automatic         Petrol      10.2 KMPL          10  \n",
       "195       10.26            Manual         Diesel        13 KMPL          13  \n",
       "\n",
       "[172 rows x 10 columns]"
      ]
     },
     "execution_count": 178,
     "metadata": {},
     "output_type": "execute_result"
    }
   ],
   "source": [
    "car_df = car_df.dropna(axis=0)\n",
    "\n",
    "car_df"
   ]
  },
  {
   "cell_type": "markdown",
   "id": "4d84bc9a",
   "metadata": {},
   "source": [
    "Now that we have everything in place. Lets do the Analysis"
   ]
  },
  {
   "cell_type": "code",
   "execution_count": 190,
   "id": "5e227e59",
   "metadata": {},
   "outputs": [
    {
     "data": {
      "image/png": "[encoded data removed]",
      "text/plain": [
       "<Figure size 720x360 with 1 Axes>"
      ]
     },
     "metadata": {
      "needs_background": "light"
     },
     "output_type": "display_data"
    }
   ],
   "source": [
    "# Lets visualize what is the Average Price of Each Brand of car\n",
    "plt.figure(figsize=(10,5))\n",
    "car_df.groupby('Brand')['PriceLakhs'].mean().plot.bar()\n",
    "plt.title(\"Avg Price of each Brand\")\n",
    "plt.ylabel('Price in Lakhs')\n",
    "plt.show()"
   ]
  },
  {
   "cell_type": "markdown",
   "id": "e3a800d4",
   "metadata": {},
   "source": [
    "<font color = 'Green' face='Comic Sans MS'> - Rolls Royce produces acrs with highest price <br>\n",
    "    - Honda, Hyundai, Datsun, Maruti Suzuki, Renault and Tata have cars with low costs\n",
    "    </font>"
   ]
  },
  {
   "cell_type": "code",
   "execution_count": 189,
   "id": "2d254796",
   "metadata": {},
   "outputs": [
    {
     "data": {
      "image/png": "[encoded data removed]",
      "text/plain": [
       "<Figure size 720x360 with 1 Axes>"
      ]
     },
     "metadata": {
      "needs_background": "light"
     },
     "output_type": "display_data"
    }
   ],
   "source": [
    "# Lets visualize what is the Avg Price based on Mileage\n",
    "car_df['MileageBin'] = car_df['Mileage'].str.extract('(\\d+\\.?\\d*)').astype(float)\n",
    "car_df['MileageBin'] = car_df['MileageBin'].apply(lambda x : 0 if pd.isna(x) else round(x))\n",
    "\n",
    "plt.figure(figsize=(10,5))\n",
    "sns.barplot(data = car_df,x='MileageBin',y='PriceLakhs')\n",
    "plt.title(\"Price based on Mileage\")\n",
    "plt.show()"
   ]
  },
  {
   "cell_type": "markdown",
   "id": "02a2969d",
   "metadata": {},
   "source": [
    "<font color = 'Green' face='Comic Sans MS'> - Car Having low Mileage have high cost </font>"
   ]
  },
  {
   "cell_type": "code",
   "execution_count": 188,
   "id": "2034d431",
   "metadata": {},
   "outputs": [
    {
     "data": {
      "image/png": "[encoded data removed]",
      "text/plain": [
       "<Figure size 720x360 with 1 Axes>"
      ]
     },
     "metadata": {
      "needs_background": "light"
     },
     "output_type": "display_data"
    }
   ],
   "source": [
    "# Lets visualize Brand vs Mileage\n",
    "plt.figure(figsize=(10,5))\n",
    "\n",
    "car_df.groupby('Brand')['MileageBin'].mean().plot.bar()\n",
    "plt.ylabel('Mileage in KMPL')\n",
    "plt.title(\"Brand Vs Mileage\")\n",
    "plt.show()"
   ]
  },
  {
   "cell_type": "markdown",
   "id": "b72a8134",
   "metadata": {},
   "source": [
    " - Most of the cars have same average mileage which shows that the manufacturers are building cars with low mileage as well as high mileage."
   ]
  },
  {
   "cell_type": "code",
   "execution_count": 195,
   "id": "48239ea9",
   "metadata": {},
   "outputs": [
    {
     "data": {
      "text/plain": [
       "Automatic                                     76\n",
       "Automatic/Manual                              62\n",
       "Manual                                        18\n",
       "Manual / Automatic                             7\n",
       "MANUAL                                         4\n",
       "8 Speed ZF Satellite Aided Automatic Trans     1\n",
       "8 speed Automatic                              1\n",
       "8 Speed Automatic                              1\n",
       "Manual & Automatic                             1\n",
       "8 speed ZF Satellite aided transmission        1\n",
       "Name: Transmission, dtype: int64"
      ]
     },
     "execution_count": 195,
     "metadata": {},
     "output_type": "execute_result"
    }
   ],
   "source": [
    "# Check Transmission Values\n",
    "car_df.Transmission.value_counts()"
   ]
  },
  {
   "cell_type": "code",
   "execution_count": 202,
   "id": "cd0d2fa9",
   "metadata": {},
   "outputs": [],
   "source": [
    "# Replace Automatic & Manual , Automatic/Manual and Manual / Automatic to have same value\n",
    "car_df['Transmission'] = car_df['Transmission'].replace({\"Manual / Automatic\":\"Automatic/Manual\", \"Manual & Automatic\":\"Automatic/Manual\",'MANUAL':\"Manual\"})"
   ]
  },
  {
   "cell_type": "code",
   "execution_count": 203,
   "id": "eb3e9aaf",
   "metadata": {},
   "outputs": [
    {
     "data": {
      "image/png": "[encoded data removed]",
      "text/plain": [
       "<Figure size 720x360 with 1 Axes>"
      ]
     },
     "metadata": {
      "needs_background": "light"
     },
     "output_type": "display_data"
    }
   ],
   "source": [
    "# Check transmission \n",
    "plt.figure(figsize=(10,5))\n",
    "car_df.Transmission.value_counts().plot.bar()\n",
    "plt.title(\"Transmission\")\n",
    "plt.show()\n"
   ]
  },
  {
   "cell_type": "markdown",
   "id": "b27ad4fd",
   "metadata": {},
   "source": [
    " - The Above graph shows Vehicles with Automatic Transmission are manufactured the most, followed by models having both Automatic and Manual vehicles"
   ]
  },
  {
   "cell_type": "code",
   "execution_count": 204,
   "id": "97d215a3",
   "metadata": {},
   "outputs": [
    {
     "data": {
      "image/png": "[encoded data removed]",
      "text/plain": [
       "<Figure size 720x360 with 1 Axes>"
      ]
     },
     "metadata": {
      "needs_background": "light"
     },
     "output_type": "display_data"
    }
   ],
   "source": [
    "# Lets visualize Transmission vs Mileage\n",
    "plt.figure(figsize=(10,5))\n",
    "\n",
    "car_df.groupby('Transmission')['MileageBin'].mean().plot.bar()\n",
    "plt.ylabel('Mileage in KMPL')\n",
    "plt.title(\"Transmission Vs Mileage\")\n",
    "plt.show()"
   ]
  },
  {
   "cell_type": "markdown",
   "id": "9d66ce83",
   "metadata": {},
   "source": [
    " - If we exclude cars of Automatic/manual as we can't correctly detrmine the type, Automatic cars have high Mileage"
   ]
  },
  {
   "cell_type": "markdown",
   "id": "693d6c61",
   "metadata": {},
   "source": [
    " -  All the above Analysis would give good enough insights for some of the good decisions by the new company"
   ]
  }
 ],
 "metadata": {
  "kernelspec": {
   "display_name": "Python 3",
   "language": "python",
   "name": "python3"
  },
  "language_info": {
   "codemirror_mode": {
    "name": "ipython",
    "version": 3
   },
   "file_extension": ".py",
   "mimetype": "text/x-python",
   "name": "python",
   "nbconvert_exporter": "python",
   "pygments_lexer": "ipython3",
   "version": "3.8.8"
  }
 },
 "nbformat": 4,
 "nbformat_minor": 5
}
